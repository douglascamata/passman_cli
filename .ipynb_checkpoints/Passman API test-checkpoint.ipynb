{
 "cells": [
  {
   "cell_type": "code",
   "execution_count": 1,
   "metadata": {
    "collapsed": false
   },
   "outputs": [],
   "source": [
    "from passman_cli.api import PassmanApi"
   ]
  },
  {
   "cell_type": "code",
   "execution_count": 2,
   "metadata": {
    "collapsed": true
   },
   "outputs": [],
   "source": [
    "passman = PassmanApi(\"https://test.passman.cc/index.php/apps/passman/api/\", (\"admin\", \"WKPwxxG2TMaYw2N\"))"
   ]
  },
  {
   "cell_type": "code",
   "execution_count": 3,
   "metadata": {
    "collapsed": false
   },
   "outputs": [
    {
     "data": {
      "text/plain": [
       "[{u'challenge_password': u'eyJpdiI6IkUzNDNITlhud1ZkYU5SZE1OY1pIQXciLCJ2IjoxLCJpdGVyIjoxMDAwLCJrcyI6MjU2LCJ0cyI6NjQsIm1vZGUiOiJjY20iLCJhZGF0YSI6IiIsImNpcGhlciI6ImFlcyIsInNhbHQiOiIxSjhIeGJEVnZmRSIsImN0IjoiVzJ4ZFMrZ2VJR0szZnU4UHZYQUwifQ==',\n",
       "  u'created': 1486058018,\n",
       "  u'guid': u'056A2D0E-415F-4ADF-8D6D-86ED4D68D319',\n",
       "  u'last_access': 1487448896,\n",
       "  u'name': u'Test',\n",
       "  u'public_sharing_key': u'-----BEGIN PUBLIC KEY-----\\r\\nMIGfMA0GCSqGSIb3DQEBAQUAA4GNADCBiQKBgQCvXPQxjyAxsJlvKLSW8FW72il2\\r\\nctN/Eo/bbDIG55BaepubkRlpwSi6gBKLRxeL7ai8I4b5oIQ0wkWuJdXzrRUIATTw\\r\\nISvP59nGuCd2l/dFF4p+arg0FchStyAGsh4uiHc7lDhesHfOF6Zuu6syOle1gm0m\\r\\nTabz9IuhA+rIlRWA3wIDAQAB\\r\\n-----END PUBLIC KEY-----\\r\\n',\n",
       "  u'vault_id': 1},\n",
       " {u'challenge_password': u'eyJpdiI6InBBcUZSaU5TOFpFZnZRNytvdUhUQ0EiLCJ2IjoxLCJpdGVyIjoxMDAwLCJrcyI6MjU2LCJ0cyI6NjQsIm1vZGUiOiJjY20iLCJhZGF0YSI6IiIsImNpcGhlciI6ImFlcyIsInNhbHQiOiIxSjhIeGJEVnZmRSIsImN0Ijoia3FXQnp5d2pzMVBZSFlMWSJ9',\n",
       "  u'created': 1486816522,\n",
       "  u'guid': u'5BEB6EB0-47CF-499F-A254-8A68558D9B97',\n",
       "  u'last_access': 1487247657,\n",
       "  u'name': u'another test vault',\n",
       "  u'public_sharing_key': u'-----BEGIN PUBLIC KEY-----\\r\\nMIGfMA0GCSqGSIb3DQEBAQUAA4GNADCBiQKBgQCinKYQ9eImlmh9AM/2kSFHn4dq\\r\\n5mBXFEE0kAXc2fGVQTEck6HfELPEavHumQqTxmE7xLKZRRi5gBcKQkJAKYy7/GmV\\r\\ncA+k4va93DKByqyX4SVab1AANYA+t45HLWo2fBY82KcQ2y5bYK/Zt2MIuJXRAU9A\\r\\n6mGis+uGPI2eIHczewIDAQAB\\r\\n-----END PUBLIC KEY-----\\r\\n',\n",
       "  u'vault_id': 2},\n",
       " {u'challenge_password': u'eyJpdiI6Ikcwam9KRS9TZllnZlpydk9kOXh2NUEiLCJ2IjoxLCJpdGVyIjoxMDAwLCJrcyI6MjU2LCJ0cyI6NjQsIm1vZGUiOiJjY20iLCJhZGF0YSI6IiIsImNpcGhlciI6ImFlcyIsInNhbHQiOiJ4bW5zZnZJVTBHcyIsImN0IjoiYkR0WkVBei9jQTFVWHlzNyJ9',\n",
       "  u'created': 1487448043,\n",
       "  u'guid': u'A8B74455-D022-4AC4-A227-6EC50872C52E',\n",
       "  u'last_access': 1487455212,\n",
       "  u'name': u'doge',\n",
       "  u'public_sharing_key': u'-----BEGIN PUBLIC KEY-----\\r\\nMIGfMA0GCSqGSIb3DQEBAQUAA4GNADCBiQKBgQCNDX+u4fj+oFv9UsLidqpRPk/o\\r\\n3xsFxs9BG3bP9TAEr1HFuFDZNtyHb8pQ5U3W98JW4YOFi/3jVvirf0ihLwALXpM9\\r\\nI/SyipfkS+9027NgOtALPenNKRbZGsEwRCgFGR28SA2hI8FLLf4KDayxjKikPStS\\r\\nR1aVnmQ+Ij91sVSy1QIDAQAB\\r\\n-----END PUBLIC KEY-----\\r\\n',\n",
       "  u'vault_id': 4}]"
      ]
     },
     "execution_count": 3,
     "metadata": {},
     "output_type": "execute_result"
    }
   ],
   "source": [
    "passman.get_vaults()"
   ]
  },
  {
   "cell_type": "code",
   "execution_count": 4,
   "metadata": {
    "collapsed": false
   },
   "outputs": [
    {
     "data": {
      "text/plain": [
       "{u'created': 1487448043,\n",
       " u'credentials': [{u'changed': 1487448043,\n",
       "   u'created': 1487448043,\n",
       "   u'credential_id': 314,\n",
       "   u'custom_fields': u'eyJpdiI6Ik9WN3FuemNjcHhhWWJ4OGxXYWhDL1EiLCJ2IjoxLCJpdGVyIjoxMDAwLCJrcyI6MjU2LCJ0cyI6NjQsIm1vZGUiOiJjY20iLCJhZGF0YSI6IiIsImNpcGhlciI6ImFlcyIsInNhbHQiOiJ4bW5zZnZJVTBHcyIsImN0IjoiYWxYdDFNaFhIVmpBRGcifQ==',\n",
       "   u'delete_time': 0,\n",
       "   u'description': u'eyJpdiI6ImNobUFpeE1QeDRXdVZxUDJkUW9qL3ciLCJ2IjoxLCJpdGVyIjoxMDAwLCJrcyI6MjU2LCJ0cyI6NjQsIm1vZGUiOiJjY20iLCJhZGF0YSI6IiIsImNpcGhlciI6ImFlcyIsInNhbHQiOiJ4bW5zZnZJVTBHcyIsImN0IjoiZkNPWUMxTm94OTBTeVlsWSJ9',\n",
       "   u'email': u'eyJpdiI6Ii9VekVxV0RBODlzSlh4cmE4RjdEMEEiLCJ2IjoxLCJpdGVyIjoxMDAwLCJrcyI6MjU2LCJ0cyI6NjQsIm1vZGUiOiJjY20iLCJhZGF0YSI6IiIsImNpcGhlciI6ImFlcyIsInNhbHQiOiJ4bW5zZnZJVTBHcyIsImN0IjoicnlEME9QK3FPQ2JYRUxSVyJ9',\n",
       "   u'expire_time': 0,\n",
       "   u'favicon': None,\n",
       "   u'files': u'eyJpdiI6IjRsd1ZVUFhpYStaa2NJbHp1aFJDTVEiLCJ2IjoxLCJpdGVyIjoxMDAwLCJrcyI6MjU2LCJ0cyI6NjQsIm1vZGUiOiJjY20iLCJhZGF0YSI6IiIsImNpcGhlciI6ImFlcyIsInNhbHQiOiJ4bW5zZnZJVTBHcyIsImN0IjoidEdCSStEd3U0b080elEifQ==',\n",
       "   u'guid': u'BEE6719E-6B01-44C2-B65F-C6C6D4BEA633',\n",
       "   u'hidden': 1,\n",
       "   u'label': u'Test key for vault doge',\n",
       "   u'otp': u'eyJpdiI6IkxEbVg1bFZVT002ZTUvNWlFMGxERGciLCJ2IjoxLCJpdGVyIjoxMDAwLCJrcyI6MjU2LCJ0cyI6NjQsIm1vZGUiOiJjY20iLCJhZGF0YSI6IiIsImNpcGhlciI6ImFlcyIsInNhbHQiOiJ4bW5zZnZJVTBHcyIsImN0IjoibDhTbFNqQ21waDZNZXcifQ==',\n",
       "   u'password': u'eyJpdiI6IlgxRVNvY0JKa0c0U0IvanZrQmhxMlEiLCJ2IjoxLCJpdGVyIjoxMDAwLCJrcyI6MjU2LCJ0cyI6NjQsIm1vZGUiOiJjY20iLCJhZGF0YSI6IiIsImNpcGhlciI6ImFlcyIsInNhbHQiOiJ4bW5zZnZJVTBHcyIsImN0IjoiOW1RUk0wQmFsUHV6ZmtWdDZpa3VNL1p2VUM1dSJ9',\n",
       "   u'renew_interval': None,\n",
       "   u'shared_key': None,\n",
       "   u'tags': u'eyJpdiI6IkNSV1dFT0NrLzdJRjVwMGR1T1lmN1EiLCJ2IjoxLCJpdGVyIjoxMDAwLCJrcyI6MjU2LCJ0cyI6NjQsIm1vZGUiOiJjY20iLCJhZGF0YSI6IiIsImNpcGhlciI6ImFlcyIsInNhbHQiOiJ4bW5zZnZJVTBHcyIsImN0Ijoid1J5dGZLUkJlc2pORncifQ==',\n",
       "   u'url': u'eyJpdiI6InJLTTBLZUJUKzV4SnI2S3RnMnd0VUEiLCJ2IjoxLCJpdGVyIjoxMDAwLCJrcyI6MjU2LCJ0cyI6NjQsIm1vZGUiOiJjY20iLCJhZGF0YSI6IiIsImNpcGhlciI6ImFlcyIsInNhbHQiOiJ4bW5zZnZJVTBHcyIsImN0IjoiWnhyYzNQeFdVbC8yMzk4cCJ9',\n",
       "   u'user_id': u'admin',\n",
       "   u'username': u'eyJpdiI6IkJVU29ESGJoMXc4NElFcmFNU2V3amciLCJ2IjoxLCJpdGVyIjoxMDAwLCJrcyI6MjU2LCJ0cyI6NjQsIm1vZGUiOiJjY20iLCJhZGF0YSI6IiIsImNpcGhlciI6ImFlcyIsInNhbHQiOiJ4bW5zZnZJVTBHcyIsImN0IjoiU3lDL2RJRmtMOHBHalZlWCJ9',\n",
       "   u'vault_id': 4},\n",
       "  {u'changed': 1487448072,\n",
       "   u'created': 1487448072,\n",
       "   u'credential_id': 315,\n",
       "   u'custom_fields': u'eyJpdiI6IjYyS2p4UkEyM0YzS0poQ01HRzM1Y3ciLCJ2IjoxLCJpdGVyIjoxMDAwLCJrcyI6MjU2LCJ0cyI6NjQsIm1vZGUiOiJjY20iLCJhZGF0YSI6IiIsImNpcGhlciI6ImFlcyIsInNhbHQiOiJ4bW5zZnZJVTBHcyIsImN0IjoiOHB2RGpoTTdWdndkUFEifQ==',\n",
       "   u'delete_time': 0,\n",
       "   u'description': u'eyJpdiI6Ikcwam9KRS9TZllnZlpydk9kOXh2NUEiLCJ2IjoxLCJpdGVyIjoxMDAwLCJrcyI6MjU2LCJ0cyI6NjQsIm1vZGUiOiJjY20iLCJhZGF0YSI6IiIsImNpcGhlciI6ImFlcyIsInNhbHQiOiJ4bW5zZnZJVTBHcyIsImN0IjoiYkR0WkVBei9jQTFVWHlzNyJ9',\n",
       "   u'email': u'eyJpdiI6IkZ1RnRuYVRsck1PcSt4dDJTSkswSVEiLCJ2IjoxLCJpdGVyIjoxMDAwLCJrcyI6MjU2LCJ0cyI6NjQsIm1vZGUiOiJjY20iLCJhZGF0YSI6IiIsImNpcGhlciI6ImFlcyIsInNhbHQiOiJ4bW5zZnZJVTBHcyIsImN0IjoicE05UStkMmtnOHJld0kvQndmd3hFOVNoMFRqU1hyYVkifQ==',\n",
       "   u'expire_time': 0,\n",
       "   u'favicon': None,\n",
       "   u'files': u'eyJpdiI6ImN6Q2VCUm9NaDdMQUgrdFNXOU15bnciLCJ2IjoxLCJpdGVyIjoxMDAwLCJrcyI6MjU2LCJ0cyI6NjQsIm1vZGUiOiJjY20iLCJhZGF0YSI6IiIsImNpcGhlciI6ImFlcyIsInNhbHQiOiJ4bW5zZnZJVTBHcyIsImN0IjoiK0N6VWlhMmJJcHNqV2cifQ==',\n",
       "   u'guid': u'438FB249-3BB1-4283-AD0E-476A6EEE3AA7',\n",
       "   u'hidden': 0,\n",
       "   u'label': u'doge',\n",
       "   u'otp': u'eyJpdiI6ImRaUW9FMjNzVmlGbXZYa0l2bWFGelEiLCJ2IjoxLCJpdGVyIjoxMDAwLCJrcyI6MjU2LCJ0cyI6NjQsIm1vZGUiOiJjY20iLCJhZGF0YSI6IiIsImNpcGhlciI6ImFlcyIsInNhbHQiOiJ4bW5zZnZJVTBHcyIsImN0IjoiTi9tY2tsM1d4ZVk0eXcifQ==',\n",
       "   u'password': u'eyJpdiI6ImNxK0s4eEo4d2x1bkZ0V0txMlpsd1EiLCJ2IjoxLCJpdGVyIjoxMDAwLCJrcyI6MjU2LCJ0cyI6NjQsIm1vZGUiOiJjY20iLCJhZGF0YSI6IiIsImNpcGhlciI6ImFlcyIsInNhbHQiOiJ4bW5zZnZJVTBHcyIsImN0IjoiRnBsSFg1NE9hWWRHdGxqS2ZVSSJ9',\n",
       "   u'renew_interval': None,\n",
       "   u'shared_key': None,\n",
       "   u'tags': u'eyJpdiI6IkYvakZLWFp3NkVseFczZXNSWjBYL2ciLCJ2IjoxLCJpdGVyIjoxMDAwLCJrcyI6MjU2LCJ0cyI6NjQsIm1vZGUiOiJjY20iLCJhZGF0YSI6IiIsImNpcGhlciI6ImFlcyIsInNhbHQiOiJ4bW5zZnZJVTBHcyIsImN0IjoiRmFaanZDY2pvaW9TN0EifQ==',\n",
       "   u'url': u'eyJpdiI6ImFQVWZpOEZlSnNjNTArT0xHRDZ3bXciLCJ2IjoxLCJpdGVyIjoxMDAwLCJrcyI6MjU2LCJ0cyI6NjQsIm1vZGUiOiJjY20iLCJhZGF0YSI6IiIsImNpcGhlciI6ImFlcyIsInNhbHQiOiJ4bW5zZnZJVTBHcyIsImN0IjoieG94RVJlT3Z6MVlzUEt6Q0EyS3dZeTROIn0=',\n",
       "   u'user_id': u'admin',\n",
       "   u'username': u'eyJpdiI6IjRQWUp1TnJnTXU5RXFuWVJLT1JKUnciLCJ2IjoxLCJpdGVyIjoxMDAwLCJrcyI6MjU2LCJ0cyI6NjQsIm1vZGUiOiJjY20iLCJhZGF0YSI6IiIsImNpcGhlciI6ImFlcyIsInNhbHQiOiJ4bW5zZnZJVTBHcyIsImN0IjoiS1RqMFVSaTNFL0IwZG9RdFBzdyJ9',\n",
       "   u'vault_id': 4}],\n",
       " u'guid': u'A8B74455-D022-4AC4-A227-6EC50872C52E',\n",
       " u'last_access': 1487455212,\n",
       " u'name': u'doge',\n",
       " u'private_sharing_key': u'eyJpdiI6InZQU29YWDlwcW4zVzRYVjFVamNYRmciLCJ2IjoxLCJpdGVyIjoxMDAwLCJrcyI6MjU2LCJ0cyI6NjQsIm1vZGUiOiJjY20iLCJhZGF0YSI6IiIsImNpcGhlciI6ImFlcyIsInNhbHQiOiJ4bW5zZnZJVTBHcyIsImN0IjoiWnh2eEl2NDArOTVYYU9aR2RpZDhkTTl4SWJKVEdNK0hVYWZjV0NacW8zWlhSSTZRNlhDRkRzV2dqMWJ3YUNTREFKMUlXKzZjc0o5QmYwOGFSU3BJeUZscXl6LzYxSTlmSi9YNXVwRnFYYlFEYnRvc2xHQzhwVTRWZ1ErSkJjemFGUXduRk9yejVETWplTkdIak04T3lyeDR5ZmxsM2tQNjRPczVuTHZucGNuRy8wQzNidDhHTXBnbmI2QzlpSzVvd3RVcmw2OUVoVTM4TGp0dk9CRDV1WkhFOERrcW9DaEM2Yy96WmxlZ01mdW1PUHFXR0JUTjlJMlpVMU5WemMyL1o2Q2JlTEhmWlBreDZBc1pQNmRqQTdCY3RBUDFHb1kwemxzQll0OFR0b1ZJWk5hVkhCM0Nyb0Y2emxEazFxTUExM2dvWnVYRU1NeTFQNllrQXd4L3VGcHA3akRFOHYrUU12NUllS0drMUlIMlR4eTJWQTZCaG5TaHNLcEo0VlVGZmlLREFCd0d2Q1k3eWNGcyttT2FJODBzMVcxUG1OanQ0bjZmYWdJYkljbWp5dms5SXJJL3AyVWxTelR5aVFKMHRZUTlQcU95enpLMG9jUVloQzh2Q3VzK0lPTm5WeXI1bFpnY2p1NmdFWThGc3NiaDRwOWwvdmwwcEtGVjBqaVhDZU9xZDQrcUJuaTAyNXNkWnYxWWcrNWpGV3J5WmxhendjZlJNM1cwSGdRck9jYUVqK3VpYWpXRVpYbHFNZkg2RE1TVytmcTlwTTZoOXZIZHdZQUtrdWloSU9XekdzNW95a2gySWVQUjU0T050NFBSNitwYVh3RUpoSlN6eUFhWk5xSDd5aENUTVNVUkx0aUpVRUx6ekZueTdNempaSGJyYlk1VktXMSsySHhSdWM1U0tGcVhHV0JIeGsybUN3cm5BQkdVNUxEWnZvdFlnVCt4ZkJvY3JUdGM5QnJSaWhLRHY5Zk1LV1hWbFpsdHI4eHl6empNTXZoRjhvMlI2am9yMHk1ZFNZdGk3bTZLNHYxUEpla29DclBCR0NudlpZY3A0WFpUYlNzWnBXUENORms2anQ2TnFQNGFDMDQ1SUlYR0N6VWNTYVZ0REh5VnMraUR6RjRFTVJUUXhyY0lyUlpxb3BQVTVhYXJyb2M4WnB4ZFoxWkowRDcyNWo5MXJsalUvN3ZNb2V6NDJ3RHZCRzlFNmRPOFg2bFIyRksxdGEveVVZQk5uczV6TzlwNm93eDB6cU1ValN4cnB3c0tGakREdFlGMFZzZ1VrOGJmSm4vVjB5YjU3Y0QzSm5MTDFKYi9lSEdtM3hDZmZnUGhRWFhYVEp3K1UyYjNidm9HVi85UnJKcnp1d2QyUGtzdGltQ0dBZDJCMjJMTUw5WWVqNnY5U3pjcmNOM0puL3JqK01Ud2RiU3p1c3BWNVA1OHpOWUw5K0lPTllxVWdlQTZNSEU5UVJ6c1pXOTY2U2VQMGhkYnhLNkRSdks5Rmpta2xISXhXSHh3YkpBRlQ1b1Q2dXpEVFQvdDIwdWxhM3QyODJCdTVpcURveVlkUzhISzlBN3h4ZmxEL1V3TXNiY0cyRjZ6cjdJTnM2d1dOMkJ1SkEifQ==',\n",
       " u'public_sharing_key': u'-----BEGIN PUBLIC KEY-----\\r\\nMIGfMA0GCSqGSIb3DQEBAQUAA4GNADCBiQKBgQCNDX+u4fj+oFv9UsLidqpRPk/o\\r\\n3xsFxs9BG3bP9TAEr1HFuFDZNtyHb8pQ5U3W98JW4YOFi/3jVvirf0ihLwALXpM9\\r\\nI/SyipfkS+9027NgOtALPenNKRbZGsEwRCgFGR28SA2hI8FLLf4KDayxjKikPStS\\r\\nR1aVnmQ+Ij91sVSy1QIDAQAB\\r\\n-----END PUBLIC KEY-----\\r\\n',\n",
       " u'sharing_keys_generated': 1487448044,\n",
       " u'vault_id': 4,\n",
       " u'vault_settings': None}"
      ]
     },
     "execution_count": 4,
     "metadata": {},
     "output_type": "execute_result"
    }
   ],
   "source": [
    "passman.get_vault(\"A8B74455-D022-4AC4-A227-6EC50872C52E\")"
   ]
  },
  {
   "cell_type": "code",
   "execution_count": 5,
   "metadata": {
    "collapsed": false
   },
   "outputs": [
    {
     "data": {
      "text/plain": [
       "{u'created': 1487448043,\n",
       " u'credentials': [{u'changed': 1487448043,\n",
       "   u'created': 1487448043,\n",
       "   u'credential_id': 314,\n",
       "   u'custom_fields': u'[]',\n",
       "   u'delete_time': 0,\n",
       "   u'description': u'null',\n",
       "   u'email': u'null',\n",
       "   u'expire_time': 0,\n",
       "   u'favicon': None,\n",
       "   u'files': u'[]',\n",
       "   u'guid': u'BEE6719E-6B01-44C2-B65F-C6C6D4BEA633',\n",
       "   u'hidden': 1,\n",
       "   u'label': u'Test key for vault doge',\n",
       "   u'otp': u'{}',\n",
       "   u'password': u'\"lorum ipsum\"',\n",
       "   u'renew_interval': None,\n",
       "   u'shared_key': None,\n",
       "   u'tags': u'[]',\n",
       "   u'url': u'null',\n",
       "   u'user_id': u'admin',\n",
       "   u'username': u'null',\n",
       "   u'vault_id': 4},\n",
       "  {u'changed': 1487448072,\n",
       "   u'created': 1487448072,\n",
       "   u'credential_id': 315,\n",
       "   u'custom_fields': u'[]',\n",
       "   u'delete_time': 0,\n",
       "   u'description': u'null',\n",
       "   u'email': u'\"doge@gmail.com\"',\n",
       "   u'expire_time': 0,\n",
       "   u'favicon': None,\n",
       "   u'files': u'[]',\n",
       "   u'guid': u'438FB249-3BB1-4283-AD0E-476A6EEE3AA7',\n",
       "   u'hidden': 0,\n",
       "   u'label': u'doge',\n",
       "   u'otp': u'{}',\n",
       "   u'password': u'\"1234\"',\n",
       "   u'renew_interval': None,\n",
       "   u'shared_key': None,\n",
       "   u'tags': u'[]',\n",
       "   u'url': u'\"doge.com\"',\n",
       "   u'user_id': u'admin',\n",
       "   u'username': u'\"doge\"',\n",
       "   u'vault_id': 4}],\n",
       " u'guid': u'A8B74455-D022-4AC4-A227-6EC50872C52E',\n",
       " u'last_access': 1487455289,\n",
       " u'name': u'doge',\n",
       " u'private_sharing_key': u'eyJpdiI6InZQU29YWDlwcW4zVzRYVjFVamNYRmciLCJ2IjoxLCJpdGVyIjoxMDAwLCJrcyI6MjU2LCJ0cyI6NjQsIm1vZGUiOiJjY20iLCJhZGF0YSI6IiIsImNpcGhlciI6ImFlcyIsInNhbHQiOiJ4bW5zZnZJVTBHcyIsImN0IjoiWnh2eEl2NDArOTVYYU9aR2RpZDhkTTl4SWJKVEdNK0hVYWZjV0NacW8zWlhSSTZRNlhDRkRzV2dqMWJ3YUNTREFKMUlXKzZjc0o5QmYwOGFSU3BJeUZscXl6LzYxSTlmSi9YNXVwRnFYYlFEYnRvc2xHQzhwVTRWZ1ErSkJjemFGUXduRk9yejVETWplTkdIak04T3lyeDR5ZmxsM2tQNjRPczVuTHZucGNuRy8wQzNidDhHTXBnbmI2QzlpSzVvd3RVcmw2OUVoVTM4TGp0dk9CRDV1WkhFOERrcW9DaEM2Yy96WmxlZ01mdW1PUHFXR0JUTjlJMlpVMU5WemMyL1o2Q2JlTEhmWlBreDZBc1pQNmRqQTdCY3RBUDFHb1kwemxzQll0OFR0b1ZJWk5hVkhCM0Nyb0Y2emxEazFxTUExM2dvWnVYRU1NeTFQNllrQXd4L3VGcHA3akRFOHYrUU12NUllS0drMUlIMlR4eTJWQTZCaG5TaHNLcEo0VlVGZmlLREFCd0d2Q1k3eWNGcyttT2FJODBzMVcxUG1OanQ0bjZmYWdJYkljbWp5dms5SXJJL3AyVWxTelR5aVFKMHRZUTlQcU95enpLMG9jUVloQzh2Q3VzK0lPTm5WeXI1bFpnY2p1NmdFWThGc3NiaDRwOWwvdmwwcEtGVjBqaVhDZU9xZDQrcUJuaTAyNXNkWnYxWWcrNWpGV3J5WmxhendjZlJNM1cwSGdRck9jYUVqK3VpYWpXRVpYbHFNZkg2RE1TVytmcTlwTTZoOXZIZHdZQUtrdWloSU9XekdzNW95a2gySWVQUjU0T050NFBSNitwYVh3RUpoSlN6eUFhWk5xSDd5aENUTVNVUkx0aUpVRUx6ekZueTdNempaSGJyYlk1VktXMSsySHhSdWM1U0tGcVhHV0JIeGsybUN3cm5BQkdVNUxEWnZvdFlnVCt4ZkJvY3JUdGM5QnJSaWhLRHY5Zk1LV1hWbFpsdHI4eHl6empNTXZoRjhvMlI2am9yMHk1ZFNZdGk3bTZLNHYxUEpla29DclBCR0NudlpZY3A0WFpUYlNzWnBXUENORms2anQ2TnFQNGFDMDQ1SUlYR0N6VWNTYVZ0REh5VnMraUR6RjRFTVJUUXhyY0lyUlpxb3BQVTVhYXJyb2M4WnB4ZFoxWkowRDcyNWo5MXJsalUvN3ZNb2V6NDJ3RHZCRzlFNmRPOFg2bFIyRksxdGEveVVZQk5uczV6TzlwNm93eDB6cU1ValN4cnB3c0tGakREdFlGMFZzZ1VrOGJmSm4vVjB5YjU3Y0QzSm5MTDFKYi9lSEdtM3hDZmZnUGhRWFhYVEp3K1UyYjNidm9HVi85UnJKcnp1d2QyUGtzdGltQ0dBZDJCMjJMTUw5WWVqNnY5U3pjcmNOM0puL3JqK01Ud2RiU3p1c3BWNVA1OHpOWUw5K0lPTllxVWdlQTZNSEU5UVJ6c1pXOTY2U2VQMGhkYnhLNkRSdks5Rmpta2xISXhXSHh3YkpBRlQ1b1Q2dXpEVFQvdDIwdWxhM3QyODJCdTVpcURveVlkUzhISzlBN3h4ZmxEL1V3TXNiY0cyRjZ6cjdJTnM2d1dOMkJ1SkEifQ==',\n",
       " u'public_sharing_key': u'-----BEGIN PUBLIC KEY-----\\r\\nMIGfMA0GCSqGSIb3DQEBAQUAA4GNADCBiQKBgQCNDX+u4fj+oFv9UsLidqpRPk/o\\r\\n3xsFxs9BG3bP9TAEr1HFuFDZNtyHb8pQ5U3W98JW4YOFi/3jVvirf0ihLwALXpM9\\r\\nI/SyipfkS+9027NgOtALPenNKRbZGsEwRCgFGR28SA2hI8FLLf4KDayxjKikPStS\\r\\nR1aVnmQ+Ij91sVSy1QIDAQAB\\r\\n-----END PUBLIC KEY-----\\r\\n',\n",
       " u'sharing_keys_generated': 1487448044,\n",
       " u'vault_id': 4,\n",
       " u'vault_settings': None}"
      ]
     },
     "execution_count": 5,
     "metadata": {},
     "output_type": "execute_result"
    }
   ],
   "source": [
    "passman.get_vault(\"A8B74455-D022-4AC4-A227-6EC50872C52E\", decrypt=True, key=\"doge\")"
   ]
  },
  {
   "cell_type": "code",
   "execution_count": null,
   "metadata": {
    "collapsed": true
   },
   "outputs": [],
   "source": []
  }
 ],
 "metadata": {
  "kernelspec": {
   "display_name": "Python 2",
   "language": "python",
   "name": "python2"
  },
  "language_info": {
   "codemirror_mode": {
    "name": "ipython",
    "version": 2
   },
   "file_extension": ".py",
   "mimetype": "text/x-python",
   "name": "python",
   "nbconvert_exporter": "python",
   "pygments_lexer": "ipython2",
   "version": "2.7.10"
  }
 },
 "nbformat": 4,
 "nbformat_minor": 2
}
